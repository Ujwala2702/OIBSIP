{
 "cells": [
  {
   "cell_type": "code",
   "execution_count": 1,
   "id": "bc8821c9-ece4-4b5b-bbd4-c71d5c140bde",
   "metadata": {},
   "outputs": [],
   "source": [
    "# Step 1 : Import necessary libraries\n",
    "import pandas as pd\n",
    "import numpy as np\n",
    "import matplotlib.pyplot as plt\n",
    "import seaborn as sns\n",
    "from sklearn.datasets import load_iris\n",
    "from sklearn.model_selection import train_test_split\n",
    "from sklearn.preprocessing import StandardScaler\n",
    "from sklearn.neighbors import KNeighborsClassifier\n",
    "from sklearn.ensemble import RandomForestClassifier\n",
    "from sklearn.metrics import accuracy_score, confusion_matrix, classification_report\n"
   ]
  },
  {
   "cell_type": "code",
   "execution_count": 3,
   "id": "2d59ab38-5cde-411a-bcc5-f44a17e632cc",
   "metadata": {},
   "outputs": [],
   "source": [
    "# Step 2 : Load dataset\n",
    "iris = load_iris()\n",
    "X = iris.data\n",
    "y = iris.target"
   ]
  },
  {
   "cell_type": "code",
   "execution_count": 5,
   "id": "2f23dd78-97dd-43dc-b23b-17ed741c79f5",
   "metadata": {},
   "outputs": [],
   "source": [
    "# step 3 : Split the data\n",
    "X_train, X_test, y_train, y_test = train_test_split(X, y, test_size=0.2, random_state=42)"
   ]
  },
  {
   "cell_type": "code",
   "execution_count": 7,
   "id": "2ffb069a-8ad6-4ad3-a497-54a5010d1aa3",
   "metadata": {},
   "outputs": [],
   "source": [
    "# step 4 : Feature scaling\n",
    "scaler = StandardScaler()\n",
    "X_train = scaler.fit_transform(X_train)\n",
    "X_test = scaler.transform(X_test)\n"
   ]
  },
  {
   "cell_type": "code",
   "execution_count": 9,
   "id": "ea1e126c-6cb6-4f19-8288-7d3ad321d412",
   "metadata": {},
   "outputs": [
    {
     "name": "stdout",
     "output_type": "stream",
     "text": [
      "\n",
      "====== K-Nearest Neighbors ======\n"
     ]
    }
   ],
   "source": [
    "# step 5 : ### ---------------- KNN MODEL ---------------- ###\n",
    "print(\"\\n====== K-Nearest Neighbors ======\")\n",
    "knn = KNeighborsClassifier(n_neighbors=3)\n",
    "knn.fit(X_train, y_train)\n",
    "y_pred_knn = knn.predict(X_test)"
   ]
  },
  {
   "cell_type": "code",
   "execution_count": 11,
   "id": "4e71037f-5e0c-497a-a09b-173f939ebc16",
   "metadata": {},
   "outputs": [
    {
     "name": "stdout",
     "output_type": "stream",
     "text": [
      "Accuracy (KNN): 1.00\n",
      "\n",
      "Classification Report (KNN):\n",
      "               precision    recall  f1-score   support\n",
      "\n",
      "           0       1.00      1.00      1.00        10\n",
      "           1       1.00      1.00      1.00         9\n",
      "           2       1.00      1.00      1.00        11\n",
      "\n",
      "    accuracy                           1.00        30\n",
      "   macro avg       1.00      1.00      1.00        30\n",
      "weighted avg       1.00      1.00      1.00        30\n",
      "\n",
      "Confusion Matrix (KNN):\n",
      " [[10  0  0]\n",
      " [ 0  9  0]\n",
      " [ 0  0 11]]\n"
     ]
    }
   ],
   "source": [
    "# Step 6 : Evaluation - KNN\n",
    "accuracy_knn = accuracy_score(y_test, y_pred_knn)\n",
    "print(f\"Accuracy (KNN): {accuracy_knn:.2f}\")\n",
    "print(\"\\nClassification Report (KNN):\\n\", classification_report(y_test, y_pred_knn))\n",
    "print(\"Confusion Matrix (KNN):\\n\", confusion_matrix(y_test, y_pred_knn))\n"
   ]
  },
  {
   "cell_type": "code",
   "execution_count": 13,
   "id": "22d40be6-9b2f-4d8d-b2b1-86550c9916cb",
   "metadata": {},
   "outputs": [
    {
     "name": "stdout",
     "output_type": "stream",
     "text": [
      "\n",
      "====== Random Forest Classifier ======\n"
     ]
    }
   ],
   "source": [
    "# step 7 : ### ---------------- RANDOM FOREST MODEL ---------------- ###\n",
    "print(\"\\n====== Random Forest Classifier ======\")\n",
    "rf = RandomForestClassifier(n_estimators=100, random_state=42)\n",
    "rf.fit(X_train, y_train)\n",
    "y_pred_rf = rf.predict(X_test)\n"
   ]
  },
  {
   "cell_type": "code",
   "execution_count": 15,
   "id": "c414c403-83ed-450c-a2d3-8be01661386e",
   "metadata": {},
   "outputs": [
    {
     "name": "stdout",
     "output_type": "stream",
     "text": [
      "Accuracy (Random Forest): 1.00\n",
      "\n",
      "Classification Report (Random Forest):\n",
      "               precision    recall  f1-score   support\n",
      "\n",
      "           0       1.00      1.00      1.00        10\n",
      "           1       1.00      1.00      1.00         9\n",
      "           2       1.00      1.00      1.00        11\n",
      "\n",
      "    accuracy                           1.00        30\n",
      "   macro avg       1.00      1.00      1.00        30\n",
      "weighted avg       1.00      1.00      1.00        30\n",
      "\n",
      "Confusion Matrix (Random Forest):\n",
      " [[10  0  0]\n",
      " [ 0  9  0]\n",
      " [ 0  0 11]]\n"
     ]
    }
   ],
   "source": [
    "# Step 8 : Evaluation - Random Forest\n",
    "accuracy_rf = accuracy_score(y_test, y_pred_rf)\n",
    "print(f\"Accuracy (Random Forest): {accuracy_rf:.2f}\")\n",
    "print(\"\\nClassification Report (Random Forest):\\n\", classification_report(y_test, y_pred_rf))\n",
    "cm_rf = confusion_matrix(y_test, y_pred_rf)\n",
    "print(\"Confusion Matrix (Random Forest):\\n\", cm_rf)\n"
   ]
  },
  {
   "cell_type": "code",
   "execution_count": 19,
   "id": "564df0d7-3a5b-49bf-8541-a1623bec8409",
   "metadata": {},
   "outputs": [
    {
     "data": {
      "image/png": "[encoded data removed]",
      "text/plain": [
       "<Figure size 800x600 with 2 Axes>"
      ]
     },
     "metadata": {},
     "output_type": "display_data"
    }
   ],
   "source": [
    "# Step 9 : Confusion matrix heatmap for Random Forest\n",
    "plt.figure(figsize=(8, 6))\n",
    "sns.heatmap(cm_rf, annot=True, fmt=\"d\", cmap=\"Greens\", \n",
    "            xticklabels=iris.target_names, \n",
    "            yticklabels=iris.target_names)\n",
    "plt.xlabel(\"Predicted\")\n",
    "plt.ylabel(\"True\")\n",
    "plt.title(\"Confusion Matrix Heatmap - Random Forest\")\n",
    "plt.show()"
   ]
  },
  {
   "cell_type": "code",
   "execution_count": null,
   "id": "4bcfe674-69d3-4bd0-a5e8-cf8d1d942432",
   "metadata": {},
   "outputs": [],
   "source": []
  }
 ],
 "metadata": {
  "kernelspec": {
   "display_name": "Python 3 (ipykernel)",
   "language": "python",
   "name": "python3"
  },
  "language_info": {
   "codemirror_mode": {
    "name": "ipython",
    "version": 3
   },
   "file_extension": ".py",
   "mimetype": "text/x-python",
   "name": "python",
   "nbconvert_exporter": "python",
   "pygments_lexer": "ipython3",
   "version": "3.12.7"
  }
 },
 "nbformat": 4,
 "nbformat_minor": 5
}
